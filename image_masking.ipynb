{
 "cells": [
  {
   "cell_type": "code",
   "execution_count": 2,
   "id": "5a258349",
   "metadata": {},
   "outputs": [],
   "source": [
    "import cv2\n",
    "import numpy as np\n",
    "import os\n",
    "import glob\n",
    "\n",
    "\n",
    "path1 = 'C:/Users/Tazin/Documents/Thesis_TFP/june after 20/crop/'\n",
    "path2 ='C:/Users/Tazin/Documents/Thesis_TFP/june after 20/crop/mask'\n",
    "os.chdir(path1)\n",
    "images = glob.glob(\"*.png\")\n",
    "\n",
    "for image in images:\n",
    "        img = cv2.imread(image, 1)\n",
    "\n",
    "        hsv = cv2.cvtColor(img, cv2.COLOR_BGR2HSV)\n",
    "\n",
    "        lower_red = np.array([0,150,150])\n",
    "        upper_red = np.array([10,255,255])\n",
    "\n",
    "        lower_orange = np.array([((10,100,100))]) \n",
    "        upper_orange = np.array([((15,255,255))])\n",
    "\n",
    "        lower_green=np.array([60, 110,100])\n",
    "        upper_green=np.array([70, 255, 255])\n",
    "\n",
    "        # find the colors within the boundaries\n",
    "        mask_green = cv2.inRange(hsv, lower_green, upper_green)\n",
    "        mask_red = cv2.inRange(hsv, lower_red, upper_red)\n",
    "        mask_orange = cv2.inRange(hsv, lower_orange, upper_orange)\n",
    "        mask = mask_green + mask_red + mask_orange\n",
    "        \n",
    "        segmented_img = cv2.bitwise_and(img, img, mask=mask)\n",
    "        os.chdir(path2)\n",
    "        cv2.imwrite(image,segmented_img)\n",
    "        os.chdir(path1)\n"
   ]
  },
  {
   "cell_type": "code",
   "execution_count": null,
   "id": "a6eaf1b5",
   "metadata": {},
   "outputs": [],
   "source": []
  }
 ],
 "metadata": {
  "kernelspec": {
   "display_name": "Python 3 (ipykernel)",
   "language": "python",
   "name": "python3"
  },
  "language_info": {
   "codemirror_mode": {
    "name": "ipython",
    "version": 3
   },
   "file_extension": ".py",
   "mimetype": "text/x-python",
   "name": "python",
   "nbconvert_exporter": "python",
   "pygments_lexer": "ipython3",
   "version": "3.9.7"
  }
 },
 "nbformat": 4,
 "nbformat_minor": 5
}
