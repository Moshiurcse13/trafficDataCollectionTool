{
 "cells": [
  {
   "cell_type": "code",
   "execution_count": null,
   "id": "93ba9498",
   "metadata": {},
   "outputs": [
    {
     "name": "stderr",
     "output_type": "stream",
     "text": [
      "C:\\Users\\Tazin\\AppData\\Local\\Temp/ipykernel_20028/3595094635.py:8: DeprecationWarning: executable_path has been deprecated, please pass in a Service object\n",
      "  driver = webdriver.Firefox(executable_path=path)\n"
     ]
    }
   ],
   "source": [
    "from selenium import webdriver\n",
    "from PIL import Image\n",
    "import time\n",
    "from selenium.webdriver.common.keys import Keys\n",
    "from selenium.webdriver.common.action_chains import ActionChains\n",
    "import os\n",
    "path = \"C:\\Program Files\\geckodriver.exe\"\n",
    "driver = webdriver.Firefox(executable_path=path)\n",
    "driver.maximize_window()\n",
    "path1 = 'C:/Users/Tazin/Documents/Thesis_TFP/tool'\n",
    "os.chdir(path1)\n",
    "driver.get(\"https://www.google.com/maps/dir/Mirpur+10+Roundabout,+Dhaka+1216//@23.8069243,90.359943,3191m/data=!3m1!1e3!4m13!4m12!1m5!1m1!1s0x3755c0d6f6b8c2ff:0x3b138861ee9c8c30!2m2!1d90.3686978!2d23.8069245!1m0!2m3!6e0!7e2!8j1641001500!3e0!5m1!1e1\")\n",
    "time.sleep(15)\n",
    "day= [\"Sat\",\"Sun\",\"Mon\",\"Tue\",\"Wed\",\"Thu\",\"Fri\"]\n",
    "date=1\n",
    "month = 1\n",
    "hour = 0\n",
    "minutes = 0\n",
    "daynumber =0\n",
    "while True:\n",
    "    minutes = minutes+15\n",
    "    if minutes>=60:\n",
    "        hour = hour+1\n",
    "        minutes =0       \n",
    "        if hour>=24:\n",
    "            hour =0\n",
    "            time.sleep(5)\n",
    "            action = ActionChains(driver)\n",
    "            element = driver.find_element_by_xpath(\"(//button[@class='oafJhe Ab1Xue'])[2]\")\n",
    "            action.click(on_element = element)\n",
    "            action.perform()\n",
    "            date = date+1\n",
    "            if date>=30:\n",
    "                date = 1\n",
    "                month =month+1\n",
    "                if month>=12:\n",
    "                    month=1\n",
    "            daynumber=daynumber+1\n",
    "            if daynumber>=7:\n",
    "                daynumber =0\n",
    "    l = driver.find_element_by_class_name(\"LgGJQc\")\n",
    "    l.clear()\n",
    "    l.send_keys(str(hour)+\":\"+str(minutes))\n",
    "    time.sleep(1)\n",
    "    driver.save_screenshot(day[daynumber]+\"_\"+str(hour)+\"_\"+str(minutes)+\"_\"+str(date)+\"_\"+str(month)+\".png\")\n",
    "    time.sleep(1)\n",
    "    l.clear()\n",
    "    print(day[daynumber]+\" : \"+str(hour)+\" : \"+str(minutes))\n",
    "\n",
    "\n",
    "\n"
   ]
  },
  {
   "cell_type": "code",
   "execution_count": null,
   "id": "f309c7ae",
   "metadata": {},
   "outputs": [],
   "source": []
  },
  {
   "cell_type": "code",
   "execution_count": null,
   "id": "cbe417e2",
   "metadata": {},
   "outputs": [],
   "source": []
  },
  {
   "cell_type": "code",
   "execution_count": null,
   "id": "93fa9856",
   "metadata": {},
   "outputs": [],
   "source": []
  },
  {
   "cell_type": "code",
   "execution_count": null,
   "id": "beb2e690",
   "metadata": {},
   "outputs": [],
   "source": []
  }
 ],
 "metadata": {
  "kernelspec": {
   "display_name": "Python 3 (ipykernel)",
   "language": "python",
   "name": "python3"
  },
  "language_info": {
   "codemirror_mode": {
    "name": "ipython",
    "version": 3
   },
   "file_extension": ".py",
   "mimetype": "text/x-python",
   "name": "python",
   "nbconvert_exporter": "python",
   "pygments_lexer": "ipython3",
   "version": "3.9.7"
  }
 },
 "nbformat": 4,
 "nbformat_minor": 5
}
