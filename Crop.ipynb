{
 "cells": [
  {
   "cell_type": "code",
   "execution_count": 4,
   "id": "244f8841",
   "metadata": {},
   "outputs": [],
   "source": [
    "\n",
    "\n",
    "import cv2 \n",
    "import glob\n",
    "import os\n",
    "path1 = 'C:/Users/Tazin/Documents/Thesis_TFP/june after 20'\n",
    "path2 = 'C:/Users/Tazin/Documents/Thesis_TFP/june after 20/crop'\n",
    "os.chdir(path1)\n",
    "\n",
    "images = glob.glob(\"*.png\")\n",
    "images\n",
    "for image in images:\n",
    "    img = cv2.imread(image, 1)\n",
    "    crop_img = img[80:770, 600:1850]\n",
    "    os.chdir(path2)\n",
    "    cv2.imwrite(image,crop_img)\n",
    "    os.chdir(path1)\n"
   ]
  },
  {
   "cell_type": "code",
   "execution_count": null,
   "id": "27a27faf",
   "metadata": {},
   "outputs": [],
   "source": []
  }
 ],
 "metadata": {
  "kernelspec": {
   "display_name": "Python 3 (ipykernel)",
   "language": "python",
   "name": "python3"
  },
  "language_info": {
   "codemirror_mode": {
    "name": "ipython",
    "version": 3
   },
   "file_extension": ".py",
   "mimetype": "text/x-python",
   "name": "python",
   "nbconvert_exporter": "python",
   "pygments_lexer": "ipython3",
   "version": "3.9.7"
  }
 },
 "nbformat": 4,
 "nbformat_minor": 5
}
